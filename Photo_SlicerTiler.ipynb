{
  "nbformat": 4,
  "nbformat_minor": 0,
  "metadata": {
    "colab": {
      "name": "Photo SlicerTiler.ipynb",
      "version": "0.3.2",
      "provenance": [],
      "collapsed_sections": [],
      "toc_visible": true,
      "include_colab_link": true
    },
    "kernelspec": {
      "display_name": "Python 3",
      "language": "python",
      "name": "python3"
    }
  },
  "cells": [
    {
      "cell_type": "markdown",
      "metadata": {
        "id": "view-in-github",
        "colab_type": "text"
      },
      "source": [
        "<a href=\"https://colab.research.google.com/github/doug14226/colab1/blob/master/Photo_SlicerTiler.ipynb\" target=\"_parent\"><img src=\"https://colab.research.google.com/assets/colab-badge.svg\" alt=\"Open In Colab\"/></a>"
      ]
    },
    {
      "metadata": {
        "id": "HMXveIUvUkQI",
        "colab_type": "text"
      },
      "cell_type": "markdown",
      "source": [
        "# A Demonstration of Python for Photo Processing\n",
        "Copyright (c) 2018 Douglas Lange.  \n",
        "Permission is hereby granted, free of charge, to any person obtaining a copy\n",
        "of this software and associated documentation files (the \"Software\"), to deal\n",
        "in the Software without restriction, including without limitation the rights\n",
        "to use, copy, modify, merge, publish, distribute, sublicense, and/or sell\n",
        "copies of the Software, and to permit persons to whom the Software is\n",
        "furnished to do so, subject to the following conditions:\n",
        "\n",
        "The above copyright notice and this permission notice shall be included in all\n",
        "copies or substantial portions of the Software.\n",
        "\n",
        "THE SOFTWARE IS PROVIDED \"AS IS\", WITHOUT WARRANTY OF ANY KIND, EXPRESS OR\n",
        "IMPLIED, INCLUDING BUT NOT LIMITED TO THE WARRANTIES OF MERCHANTABILITY,\n",
        "FITNESS FOR A PARTICULAR PURPOSE AND NONINFRINGEMENT. IN NO EVENT SHALL THE\n",
        "AUTHORS OR COPYRIGHT HOLDERS BE LIABLE FOR ANY CLAIM, DAMAGES OR OTHER\n",
        "LIABILITY, WHETHER IN AN ACTION OF CONTRACT, TORT OR OTHERWISE, ARISING FROM,\n",
        "OUT OF OR IN CONNECTION WITH THE SOFTWARE OR THE USE OR OTHER DEALINGS IN THE\n",
        "SOFTWARE."
      ]
    },
    {
      "metadata": {
        "id": "aTcNEs3dcINN",
        "colab_type": "text"
      },
      "cell_type": "markdown",
      "source": [
        "##Block 1: Setup Python environment\n",
        "\n",
        "\n",
        "---\n",
        "Get Mona_Lisa.jpg and install Cairo package.\n",
        "Execution of this block will produce a setup.log file.\n",
        "If faults occur, please download setup.log and post new issue with setup.log as attachment at https://github.com/doug14226/colab1/issues. To download setup.log run the following in a new  cell.  (to add cell press +code above)\n",
        "\n",
        "---\n",
        "from google.colab import files  \n",
        "files.download(\"setup.log\")\n",
        "\n"
      ]
    },
    {
      "metadata": {
        "id": "ggcOkz7kUkQM",
        "colab_type": "code",
        "colab": {}
      },
      "cell_type": "code",
      "source": [
        "def dougpawsPhotoTilesSetup():\n",
        "\n",
        "    def install_not_needed():\n",
        "        lsout = !ls -l Mona_Lisa.jpg\n",
        "        if len(lsout[0].split()) > 4 and (lsout[0].split()[4] == '401542'):\n",
        "            try:\n",
        "                import cairo    \n",
        "                return(True)\n",
        "            except ImportError:\n",
        "                pass\n",
        "        return(False)\n",
        "\n",
        "    if install_not_needed():\n",
        "        return\n",
        "\n",
        "    log = open(\"setup.log\",\"a\")\n",
        "\n",
        "    def printlog(cmdout,log):\n",
        "        for line in cmdout:\n",
        "            print(line, file = log)\n",
        "\n",
        "    print(\"\\nSetup required \", file = log)\n",
        "\n",
        "# log date time stamp\n",
        "    from datetime import datetime\n",
        "    print(datetime.utcnow(), file = log)\n",
        "\n",
        "# log python version\n",
        "    import sys\n",
        "    print(\"Log Python Version\", file = log)\n",
        "    print(sys.version, file=log)\n",
        "\n",
        "\n",
        "# log OS version\n",
        "    cmdout = !uname -a\n",
        "    print(\"ID OS version\", file = log)\n",
        "    printlog(cmdout, log)\n",
        "    cmdout = !cat /proc/cpuinfo\n",
        "    printlog(cmdout, log)\n",
        "    cmdout = !cat /proc/meminfo\n",
        "    printlog(cmdout, log)\n",
        "\n",
        "#download  Mona_Lisa.jpg from google drive\n",
        "# by using a shared link account name & password are not needed\n",
        "#shared link = https://drive.google.com/file/d/1_hUkSmQjXfxMwq170pOlRxdgf7hajgHd/view?usp=sharing\n",
        "    lsout = !ls -l Mona_Lisa.jpg\n",
        "    if (lsout[0].split()[4] != '401542'):\n",
        "        fileID = \"1_hUkSmQjXfxMwq170pOlRxdgf7hajgHd\"\n",
        "        cmdout =!wget -O Mona_Lisa.jpg \"https://drive.google.com/uc?export=download&id=1_hUkSmQjXfxMwq170pOlRxdgf7hajgHd\"\n",
        "        print(\"installing Mona_Lisa.jpg\",file = log )\n",
        "        printlog(cmdout, log)\n",
        "\n",
        "#if cairo not installed install it\n",
        "    try:\n",
        "       import cairo\n",
        "    except ImportError:\n",
        "        print(\"installing Mona_Lisa.jpg\",file = log )\n",
        "        cmdout = !apt-get install libcairo2-dev\n",
        "        printlog(cmdout, log)\n",
        "        cmdout = !pip3 install pycairo\n",
        "        printlog(cmdout, log)\n",
        "\n",
        "#check if all requirementss were installed\n",
        "\n",
        "    if install_not_needed():\n",
        "        print(\"Install finished without errors\")\n",
        "    else:\n",
        "        print(\"Insstall failed, check setup.log\")\n",
        " \n",
        "dougpawsPhotoTilesSetup()"
      ],
      "execution_count": 0,
      "outputs": []
    },
    {
      "metadata": {
        "id": "0eSU79jkekMz",
        "colab_type": "text"
      },
      "cell_type": "markdown",
      "source": [
        "##Block 2: Define *tileIm* and *sliceIm* functions\n"
      ]
    },
    {
      "metadata": {
        "id": "8grw74x_UkQR",
        "colab_type": "code",
        "colab": {}
      },
      "cell_type": "code",
      "source": [
        "def tileIm(image, rects, n):\n",
        "  if n==2:\n",
        "    return sliceIm(image, rects, 2)\n",
        "  minmax = max(image.shape)\n",
        "  nxtrects = []\n",
        "  for rect in rects:\n",
        "    top = rect[0]\n",
        "    bottom = rect[1]\n",
        "    left = rect[2]\n",
        "    right = rect[3]\n",
        "    im = image[top:bottom,left:right]\n",
        "    rowsum = im.sum(axis=1)\n",
        "    colsum = im.sum(axis=0)\n",
        "    if (bottom - top) > (right - left):\n",
        "      cumrowsum = rowsum.cumsum()\n",
        "      xr = np.amin(cumrowsum)\n",
        "      mr = (np.amax(cumrowsum)-xr)/n\n",
        "      t1 = 0\n",
        "      b1 = np.amin(np.nonzero(cumrowsum>=(xr+mr)))\n",
        "      t2 = np.amin(np.nonzero(cumrowsum>=(xr+(mr*(n-1)))))\n",
        "      b2 = bottom-top\n",
        "      if ((b1 - t1) > (b2 - t2)):\n",
        "        rrects = tileIm(image, [[top + b1, bottom, left, right ]], n - 1)\n",
        "        nxtrects.append( [top, top + b1, left, right] )\n",
        "      else:\n",
        "        rrects = tileIm(image, [[top , top + t2, left, right ]], n - 1)\n",
        "        nxtrects.append( [top + t2, bottom, left, right] )\n",
        "      for rrrect in rrects:\n",
        "        nxtrects.append(rrrect)\n",
        "    else:\n",
        "      cumcolsum = colsum.cumsum()\n",
        "      xc = np.amin(cumcolsum)             \n",
        "      mc = (np.amax(cumcolsum)-xc)/n\n",
        "      l1 = 0\n",
        "      r1 = np.amin(np.nonzero(cumcolsum>=(xc+mc)))\n",
        "      l2 = np.amin(np.nonzero(cumcolsum>=(xc+(mc*(n-1)))))\n",
        "      r2 = right - left\n",
        "      if ((r1 - l1) > (r2 -l2)):\n",
        "        rrects = tileIm(image, [[top , bottom, left + r1, right ]], n -1 )\n",
        "        nxtrects.append( [top, bottom, left, left + r1] )\n",
        "      else:\n",
        "        rrects = tileIm(image, [[top , bottom, left, left+l2]], n - 1)\n",
        "        nxtrects.append( [top, bottom, left +l2, right] )\n",
        "      for rrrect in rrects:\n",
        "        nxtrects.append(rrrect)\n",
        "  return nxtrects\n",
        "  \n",
        "def sliceIm(image, rects, n):\n",
        "  nxtrects = []\n",
        "  for rect in rects:\n",
        "    top = rect[0]\n",
        "    bottom = rect[1]\n",
        "    left = rect[2]\n",
        "    right = rect[3]\n",
        "    im = image[top:bottom,left:right]      \n",
        "    if (bottom - top) > (right - left):\n",
        "      rowsum = im.sum(axis=1)\n",
        "      cumrowsum = rowsum.cumsum()\n",
        "      xr = np.amin(cumrowsum)\n",
        "      mr = (np.amax(cumrowsum)-xr)/n\n",
        "      for i in range(1,n):\n",
        "        t = np.amin(np.nonzero(cumrowsum>=(xr+(mr*(i-1)))))\n",
        "        b = np.amin(np.nonzero(cumrowsum>=(xr+(mr*i))))\n",
        "        nxtrects.append( [top + t, top + b, left, right] )\n",
        "      nxtrects.append( [top + b, bottom , left, right] )\n",
        "    else:\n",
        "      colsum = im.sum(axis=0)\n",
        "      cumcolsum = colsum.cumsum()\n",
        "      xc = np.amin(cumcolsum)             \n",
        "      mc = (np.amax(cumcolsum)-xc)/n\n",
        "      for i in range(1, n):\n",
        "        r = np.amin(np.nonzero(cumcolsum>=(xc+(mc*(i-1)))))\n",
        "        l = np.amin(np.nonzero(cumcolsum>=(xc+(mc*i))))\n",
        "        nxtrects.append( [top, bottom, left + r, left + l] )\n",
        "      nxtrects.append( [top, bottom, left + l, right] )\n",
        "  return nxtrects"
      ],
      "execution_count": 0,
      "outputs": []
    },
    {
      "metadata": {
        "id": "BZRYJiyhx_OB",
        "colab_type": "text"
      },
      "cell_type": "markdown",
      "source": [
        "##Block 3: Define *drawImage* and *displayImage* functions"
      ]
    },
    {
      "metadata": {
        "id": "jBFM93wg3ud3",
        "colab_type": "code",
        "colab": {}
      },
      "cell_type": "code",
      "source": [
        "def drawImage(slice, hue, fileOut):\n",
        "\n",
        "  def drawRectangles(slice, ctx):\n",
        "    for rect in slice: \n",
        "        top = rect[0]\n",
        "        bottom = rect[1]\n",
        "        left = rect[2]\n",
        "        right = rect[3]\n",
        "        ctx.rectangle(left, top, right-left, bottom-top)\n",
        "        ctx.stroke()\n",
        "        \n",
        "  surface = cairo.SVGSurface(fileOut, im.shape[1], im.shape[0])\n",
        "  ctx = cairo.Context(surface)\n",
        "  ctx.rectangle(0, 0,  im.shape[1], im.shape[0])\n",
        "  ctx.set_source_rgb(*hue)\n",
        "  ctx.fill()\n",
        "  ctx.set_source_rgb(0, 0, 0)\n",
        "  ctx.set_line_width(1)\n",
        "  drawRectangles(slice, ctx)\n",
        "  return(surface)\n",
        "\n",
        "def displayImage(surface):    \n",
        "  bytes = BytesIO()\n",
        "  surface.write_to_png(bytes)\n",
        "  bytes.seek(0)\n",
        "  binarydata = bytes.read()\n",
        "  i = display.Image(data = binarydata)\n",
        "  display.display(i)\n"
      ],
      "execution_count": 0,
      "outputs": []
    },
    {
      "metadata": {
        "id": "KiIAzkvY9viJ",
        "colab_type": "text"
      },
      "cell_type": "markdown",
      "source": [
        "##Block 4:  The main program\n",
        "\n",
        "---\n",
        "Import required Python Packages   \n",
        "open Mona_Lisa.jpg  \n",
        "convert to Black and white  \n",
        "invert for photo negative  "
      ]
    },
    {
      "metadata": {
        "id": "ZaMGqat6UkQY",
        "colab_type": "code",
        "colab": {}
      },
      "cell_type": "code",
      "source": [
        "import numpy as np\n",
        "import cairo\n",
        "from PIL import Image\n",
        "from io import BytesIO\n",
        "from IPython.core import display\n",
        "from google.colab import files \n",
        "pic = Image.open(\"Mona_Lisa.jpg\")\n",
        "picbw = pic.convert('L')\n",
        "temp = (np.array(pic)/255)\n",
        "im = 1.0 -temp[:,:,0]"
      ],
      "execution_count": 0,
      "outputs": []
    },
    {
      "metadata": {
        "scrolled": true,
        "id": "Oi482Z0TUkQa",
        "colab_type": "code",
        "cellView": "both",
        "colab": {
          "base_uri": "https://localhost:8080/",
          "height": 1317
        },
        "outputId": "17f6d22c-26b4-495f-f1f6-e0943ac4b97d"
      },
      "cell_type": "code",
      "source": [
        "#@title Tile or Slice the image\n",
        "Tile = True #@param {type:\"boolean\"}\n",
        "Divisors = [5,5,5,5,3,3,2,2] #@param {type:\"raw\"}\n",
        "background_hue = (.62,.79,.88) #@param {type:\"raw\"}\n",
        "fileOut = \"Mona_Lisa.svg\" #@param {type:\"string\"}\n",
        "def main():\n",
        "  slice =  [[0, im.shape[0], 0, im.shape[1]]]\n",
        "  for n in Divisors:\n",
        "    try:\n",
        "      if Tile:\n",
        "        slice = tileIm(im, slice, n)\n",
        "      else:\n",
        "        slice = sliceIm(im, slice, n)\n",
        "      print(\"divisor = \", n)\n",
        "    except:\n",
        "      break\n",
        "  surface = drawImage(slice, background_hue, fileOut )\n",
        "  displayImage(surface)\n",
        "  \n",
        "main()"
      ],
      "execution_count": 25,
      "outputs": [
        {
          "output_type": "stream",
          "text": [
            "divisor =  5\n",
            "divisor =  5\n"
          ],
          "name": "stdout"
        },
        {
          "output_type": "display_data",
          "data": {
            "image/png": "[encoded data removed]",
            "text/plain": [
              "<IPython.core.display.Image object>"
            ]
          },
          "metadata": {
            "tags": []
          }
        }
      ]
    },
    {
      "metadata": {
        "id": "1j1Up7ozJuJ6",
        "colab_type": "code",
        "cellView": "both",
        "colab": {}
      },
      "cell_type": "code",
      "source": [
        "#@title Download SVG file? { run: \"auto\" }\n",
        "download = False #@param {type:\"boolean\"}\n",
        "if download: \n",
        "  files.download(fileOut)\n",
        "  "
      ],
      "execution_count": 0,
      "outputs": []
    }
  ]
}