{
  "nbformat": 4,
  "nbformat_minor": 0,
  "metadata": {
    "colab": {
      "name": "firstMaze.ipynb",
      "version": "0.3.2",
      "provenance": [],
      "include_colab_link": true
    },
    "kernelspec": {
      "display_name": "Python 3",
      "language": "python",
      "name": "python3"
    }
  },
  "cells": [
    {
      "cell_type": "markdown",
      "metadata": {
        "id": "view-in-github",
        "colab_type": "text"
      },
      "source": [
        "<a href=\"https://colab.research.google.com/github/doug14226/colab1/blob/master/firstMaze.ipynb\" target=\"_parent\"><img src=\"https://colab.research.google.com/assets/colab-badge.svg\" alt=\"Open In Colab\"/></a>"
      ]
    },
    {
      "metadata": {
        "id": "4YYYoIDW4g6b",
        "colab_type": "text"
      },
      "cell_type": "markdown",
      "source": [
        "#A Maze Generator with PDF file output\n",
        "Copyright (c) 2018 Douglas Lange.  \n",
        "Permission is hereby granted, free of charge, to any person obtaining a copy\n",
        "of this software and associated documentation files (the \"Software\"), to deal\n",
        "in the Software without restriction, including without limitation the rights\n",
        "to use, copy, modify, merge, publish, distribute, sublicense, and/or sell\n",
        "copies of the Software, and to permit persons to whom the Software is\n",
        "furnished to do so, subject to the following conditions:\n",
        "\n",
        "The above copyright notice and this permission notice shall be included in all\n",
        "copies or substantial portions of the Software.\n",
        "\n",
        "HE SOFTWARE IS PROVIDED \"AS IS\", WITHOUT WARRANTY OF ANY KIND, EXPRESS OR\n",
        "IMPLIED, INCLUDING BUT NOT LIMITED TO THE WARRANTIES OF MERCHANTABILITY,\n",
        "FITNESS FOR A PARTICULAR PURPOSE AND NONINFRINGEMENT. IN NO EVENT SHALL THE\n",
        "AUTHORS OR COPYRIGHT HOLDERS BE LIABLE FOR ANY CLAIM, DAMAGES OR OTHER\n",
        "LIABILITY, WHETHER IN AN ACTION OF CONTRACT, TORT OR OTHERWISE, ARISING FROM,\n",
        "OUT OF OR IN CONNECTION WITH THE SOFTWARE OR THE USE OR OTHER DEALINGS IN THE\n",
        "SOFTWARE.\n",
        "\n"
      ]
    },
    {
      "metadata": {
        "id": "JL_kVwh_d_29",
        "colab_type": "text"
      },
      "cell_type": "markdown",
      "source": [
        "##Block 1 :  Install Cairo Library and Python Cairo interface\n",
        "\n",
        "---\n",
        "Install Cairo package.\n",
        "Execution of this block will produce a setup.log file.\n",
        "If faults occur, please download setup.log and post new issue with setup.log as attachment at https://github.com/doug14226/colab1/issues. To download setup.log run the following in a new  cell.  (to add cell press +code above)\n",
        "\n",
        "---\n",
        "from google.colab import files  \n",
        "files.download(\"setup.log\")\n",
        "\n"
      ]
    },
    {
      "metadata": {
        "id": "S8Hf_4XqUSWL",
        "colab_type": "code",
        "outputId": "bf5da0a7-61bf-4e00-9f4f-24b7c66e8893",
        "colab": {
          "base_uri": "https://localhost:8080/",
          "height": 34
        }
      },
      "cell_type": "code",
      "source": [
        "def dougpawsFirstMazeSetup():\n",
        "  \n",
        "  def install_not_needed():\n",
        "    try:\n",
        "      import cairo\n",
        "      return(True)\n",
        "    except ImportError:\n",
        "      pass\n",
        "      return(False)\n",
        "\n",
        "  if install_not_needed():\n",
        "    print(\"All requirements met, install not needed\")\n",
        "    return\n",
        "\n",
        "  log = open(\"setup.log\",\"a\")\n",
        "\n",
        "  def printlog(cmdout,log): \n",
        "    for line in cmdout:\n",
        "      print(line, file = log)\n",
        "      \n",
        "  print(\"\\nSetup required \", file = log)\n",
        "  from datetime import datetime\n",
        "  print(datetime.utcnow(), file = log)\n",
        "  import sys\n",
        "  print(\"Log Python Version\", file = log)\n",
        "  print(sys.version, file=log)\n",
        "  cmdout = !uname -a\n",
        "  print(\"ID OS version\", file = log)\n",
        "  printlog(cmdout, log)\n",
        "  print(\"installing cairo\", file = log )\n",
        "  cmdout = !apt-get install libcairo2-dev\n",
        "  printlog(cmdout, log)\n",
        "  cmdout = !pip3 install pycairo\n",
        "  printlog(cmdout, log)\n",
        "\n",
        "  if install_not_needed():\n",
        "    print(\"Install finished without errors\")\n",
        "  else:\n",
        "    print(\"Install failed, check setup.log\")\n",
        "\n",
        "dougpawsFirstMazeSetup()    "
      ],
      "execution_count": 0,
      "outputs": [
        {
          "output_type": "stream",
          "text": [
            "Install finished without errors\n"
          ],
          "name": "stdout"
        }
      ]
    },
    {
      "metadata": {
        "id": "YB2aIyffezwI",
        "colab_type": "text"
      },
      "cell_type": "markdown",
      "source": [
        "**Block 2** Class *Cell*, define data and methods of *Cell* objects."
      ]
    },
    {
      "metadata": {
        "id": "oNnK-UdMUIft",
        "colab_type": "code",
        "colab": {}
      },
      "cell_type": "code",
      "source": [
        "import cairo\n",
        "\n",
        "class Cell:\n",
        "    def __init__(self, row, column):\n",
        "        self.row = row\n",
        "        self.column = column\n",
        "        self.directions = ('north', 'west', 'south', 'east')  # ccw order required\n",
        "        self.nearby = dict()      # key is direction (i.e. 'east') value is cell object\n",
        "        self.links = dict()       # key is nearby cell object value is true\n",
        "\n",
        "    def link(self, cell, bidi=True):\n",
        "        self.links[cell] = True\n",
        "        if bidi is True:\n",
        "            cell.link(self, False)\n",
        "        return self\n",
        "\n",
        "    def unlink(self, cell, bidi=True):\n",
        "        try:\n",
        "            del self.links[cell]\n",
        "        except KeyError:\n",
        "            pass\n",
        "        if bidi:\n",
        "            cell.unlink(self, False)\n",
        "        return self\n",
        "\n",
        "    def getLinks(self):\n",
        "        return self.links.keys()\n",
        "\n",
        "    def linked(self, cell):\n",
        "        #return self.links.has_key(cell)\n",
        "        return cell in self.links\n",
        "\n",
        "    def neighbors(self):\n",
        "        myNeighbors = [self.nearby[d] for d in self.directions]\n",
        "        return [x for x in filter(None, myNeighbors)]\n",
        "\n",
        "    def directionToText(self, direction):\n",
        "        if direction == 0:\n",
        "            direction = \"north\"\n",
        "        if direction == 1:\n",
        "            direction = \"east\"\n",
        "        if direction == 2:\n",
        "            direction = \"south\"\n",
        "        if direction == 3:\n",
        "            direction = \"west\"\n",
        "        return direction\n",
        "\n",
        "    def getNeighbor(self, direction):\n",
        "        direction = self.directionToText(direction)\n",
        "        myNeighbor = self.nearby[direction]\n",
        "        if self.links.get(myNeighbor):\n",
        "            return myNeighbor\n",
        "\n",
        "    def fillCell(self, ctx, pointsPerCell, hue):\n",
        "        yU = self.row*pointsPerCell+4\n",
        "        xL = self.column*pointsPerCell+4\n",
        "        ctx.rectangle(xL, yU, pointsPerCell, pointsPerCell)\n",
        "        ctx.set_source_rgb(*hue)\n",
        "        ctx.fill()\n",
        "\n",
        "    def drawCell(self, ctx, pointsPerCell, rows, columns):\n",
        "        yU = self.row*pointsPerCell+4\n",
        "        yL = yU+pointsPerCell\n",
        "        xL = self.column*pointsPerCell+4\n",
        "        xR = xL+pointsPerCell\n",
        "        ctx.set_source_rgb(0, 0, 0)\n",
        "        ctx.set_line_width(4)\n",
        "        if not(self.hasNeighbor(\"east\")) and self.column < (columns-1):\n",
        "            ctx.move_to(xR, yU-2)\n",
        "            ctx.line_to(xR, yL+2)\n",
        "            ctx.stroke()\n",
        "        if not(self.hasNeighbor(\"south\")) and self.row < (rows-1):\n",
        "            ctx.move_to(xL, yL)\n",
        "            ctx.line_to(xR, yL)\n",
        "            ctx.stroke()\n",
        "\n",
        "    def hasNeighbor(self, direction):\n",
        "        direction = self.directionToText(direction)\n",
        "        myNeighbor = self.nearby[direction]\n",
        "        return myNeighbor in self.links\n",
        "\n",
        "    #return Distances from this cell to all other cells\n",
        "    def getDistances(self, pallet=0):\n",
        "        distances = Distances(self, rootPallet=pallet)\n",
        "        frontier = []\n",
        "        frontier.append(self)\n",
        "        while len(frontier) > 0:\n",
        "            newFrontier = []\n",
        "            for cell in frontier:\n",
        "                for linked in cell.getLinks():\n",
        "                    if distances.getDistanceTo(linked) is None:\n",
        "                        dist = distances.getDistanceTo(cell)\n",
        "                        distances.setDistanceTo(linked, dist+1)\n",
        "                        distances.setPallet(linked, pallet)\n",
        "                        newFrontier.append(linked)\n",
        "            frontier = newFrontier\n",
        "        return distances\n",
        "             "
      ],
      "execution_count": 0,
      "outputs": []
    },
    {
      "metadata": {
        "id": "rmoy6lQF2Flq",
        "colab_type": "text"
      },
      "cell_type": "markdown",
      "source": [
        "**Block 3** class Grid. define data and methods of gid i.e. maze objects."
      ]
    },
    {
      "metadata": {
        "id": "2qsxlOftUIfy",
        "colab_type": "code",
        "colab": {}
      },
      "cell_type": "code",
      "source": [
        "class Grid:\n",
        "    def __init__(self, rows, columns, cellClass=Cell):\n",
        "        self.CellClass = cellClass\n",
        "        self.rows = rows\n",
        "        self.columns = columns\n",
        "        self.grid = self.prepareGrid()\n",
        "        self.distances = None\n",
        "        self.configureCells()\n",
        "        self.pointsPerCell = 18\n",
        "        self.start = None              # cell of path start\n",
        "        self.goal = None               # cell of path goal\n",
        "        self.ctx = None\n",
        "\n",
        "    def prepareGrid(self):\n",
        "        rowList = []\n",
        "        i = 0\n",
        "        j = 0\n",
        "        for i in range(self.rows):\n",
        "            columnList = []\n",
        "            for j in range(self.columns):\n",
        "                columnList.append(self.CellClass(i, j))\n",
        "            rowList.append(columnList)\n",
        "        return rowList\n",
        "\n",
        "    def configureCells(self):\n",
        "        for cell in self.eachCell():\n",
        "            row = cell.row\n",
        "            col = cell.column\n",
        "            cell.nearby['north'] = self.getCell(row-1, col)\n",
        "            cell.nearby['east'] = self.getCell(row, col+1)\n",
        "            cell.nearby['south'] = self.getCell(row+1, col)\n",
        "            cell.nearby['west'] = self.getCell(row, col-1)\n",
        "\n",
        "    def eachRow(self):\n",
        "        for row in self.grid:\n",
        "            yield row\n",
        "\n",
        "    def eachCell(self):\n",
        "        for row in self.grid:\n",
        "            for cell in row:\n",
        "                yield cell\n",
        "\n",
        "    def drawGrid(self, filename=\"maze.pdf\", pointsPerCell=18 , paper='US/Letter'):\n",
        "        if paper == 'US/Letter':\n",
        "          WIDTH, HEIGHT = 612, 792 \n",
        "        elif paper == 'A4':\n",
        "          WIDTH, HEIGHT = 595, 842  \n",
        "        elif paper == 'Tabloid':\n",
        "          WIDTH, HEIGHT = 792, 1224  \n",
        "        surface = cairo.PDFSurface(filename, WIDTH, HEIGHT) #[\"US/Letter\", \"A4\", \"Tabloid\"]\n",
        "        self.ctx = cairo.Context(surface)\n",
        "        rscale = (HEIGHT - 36) / (self.rows * pointsPerCell)\n",
        "        cscale = (WIDTH - 36) / (self.columns * pointsPerCell)\n",
        "        scale = min(rscale, cscale)\n",
        "        rsize = (self.rows * pointsPerCell) * scale\n",
        "        csize = (self.columns * pointsPerCell) * scale \n",
        "        self.ctx.translate(((WIDTH - csize) / 2) - 4, ((HEIGHT - rsize) / 2) - 4)\n",
        "        self.ctx.scale(scale , scale)\n",
        "        self.ctx.set_line_join(cairo.LINE_JOIN_MITER)\n",
        "        for row in self.grid:\n",
        "            for cell in row:\n",
        "                cell.drawCell(self.ctx, self.pointsPerCell, self.rows, self.columns)\n",
        "        self.ctx.set_source_rgb(0, 0, 0)\n",
        "        self.ctx.set_line_width(4)\n",
        "        self.ctx.set_line_join(cairo.LINE_JOIN_MITER)\n",
        "        self.ctx.rectangle(4, 4, self.columns*self.pointsPerCell, self.rows*self.pointsPerCell)\n",
        "        self.ctx.stroke()\n",
        "        self.drawOpening(self.start, (1.0, 1.0, 1.0))\n",
        "        self.drawOpening(self.goal, (1.0, 1.0, 1.0))\n",
        "        surface.show_page()\n",
        "        for row in self.grid:\n",
        "            for cell in row:\n",
        "                if not self.distances.cells.get(cell, 0):\n",
        "                    cell.fillCell(self.ctx, self.pointsPerCell, (0.7, 0.7, 0.7))                \n",
        "        for row in self.grid:\n",
        "            for cell in row:\n",
        "                cell.drawCell(self.ctx, self.pointsPerCell, self.rows, self.columns)        \n",
        "        self.ctx.rectangle(4, 4, self.columns*self.pointsPerCell, self.rows*self.pointsPerCell)\n",
        "        self.ctx.stroke()\n",
        "        self.drawOpening(self.start, (0.7, 0.7, 0.7))\n",
        "        self.drawOpening(self.goal, (0.7, 0.7, 0.7))\n",
        "        return surface\n",
        "\n",
        "    def drawOpening(self, cell, hue):\n",
        "        self.ctx.set_source_rgb(*hue)\n",
        "        self.ctx.set_line_cap(cairo.LINE_CAP_BUTT)\n",
        "        if cell.row == 0:\n",
        "            self.ctx.move_to(4+2+(cell.column*self.pointsPerCell), 4)\n",
        "            self.ctx.line_to(4-2+((cell.column+1)*self.pointsPerCell), 4)\n",
        "            self.ctx.stroke()\n",
        "        elif cell.row == self.rows - 1:\n",
        "            self.ctx.move_to(4+2+(cell.column*self.pointsPerCell), self.rows*self.pointsPerCell + 4)\n",
        "            self.ctx.line_to(4-2+((cell.column+1)*self.pointsPerCell), self.rows*self.pointsPerCell + 4)\n",
        "            self.ctx.stroke()        \n",
        "        elif cell.column == 0:\n",
        "            self.ctx.move_to(4, 4+2+(cell.row*self.pointsPerCell))\n",
        "            self.ctx.line_to(4, 4-2+((cell.row+1)*self.pointsPerCell))\n",
        "            self.ctx.stroke()\n",
        "        elif cell.column == self.columns - 1:\n",
        "            self.ctx.move_to(self.columns*self.pointsPerCell+4,\n",
        "                             (cell.row*self.pointsPerCell+4+2))\n",
        "            self.ctx.line_to(self.columns*self.pointsPerCell+4,\n",
        "                             (4-2+(cell.row+1)*self.pointsPerCell))\n",
        "            self.ctx.stroke()\n",
        "\n",
        "    def getDistancesFromPath(self, start, goal, pallet=0):\n",
        "        distancesToStart = start.getDistances(pallet)\n",
        "        distancesToGoal = goal.getDistances(pallet)\n",
        "        pathLength = distancesToGoal.getDistanceTo(start)\n",
        "        sumDistances = distancesToStart + distancesToGoal\n",
        "        return (sumDistances - pathLength)\n",
        "    \n",
        "    def getCell(self, row, column):\n",
        "        if not 0 <= row < self.rows:\n",
        "            return None\n",
        "        if not 0 <= column < self.columns:\n",
        "            return None\n",
        "        return self.grid[row][column]\n",
        "\n",
        "    def size(self):\n",
        "        return self.rows*self.columns\n",
        "\n",
        "    def randomCell(self):\n",
        "        row = random.randint(0, self.rows-1)\n",
        "        column = self.grid\n",
        "        column = random.randint(0, len(self.grid[row])-1)\n",
        "        return self.grid[row][column]\n",
        "        "
      ],
      "execution_count": 0,
      "outputs": []
    },
    {
      "metadata": {
        "id": "dg4tAMWk3BhF",
        "colab_type": "text"
      },
      "cell_type": "markdown",
      "source": [
        "**Block 4** class Distances, data and methods  for Distance objects, Distance is a measure of seperation of cells."
      ]
    },
    {
      "metadata": {
        "id": "0JZCI46eUIfz",
        "colab_type": "code",
        "colab": {}
      },
      "cell_type": "code",
      "source": [
        "class Distances:\n",
        "\n",
        "    def __init__(self, rootCell, rootPallet=0):\n",
        "        self.rootCell = rootCell\n",
        "        self.cells = dict()\n",
        "        self.pallet = dict()\n",
        "        self.cells[self.rootCell] = 0\n",
        "        self.pallet[self.rootCell] = rootPallet\n",
        "\n",
        "    def __sub__(self, other):\n",
        "        difference = Distances(self.rootCell)\n",
        "        selfCells = self.getCells()\n",
        "        if isinstance(other, int):\n",
        "            for c in selfCells:\n",
        "                this = self.getDistanceTo(c)\n",
        "                thisPallet = self.getPallet(c)\n",
        "                difference.setDistanceTo(c, (this - other))\n",
        "                difference.setPallet(c, thisPallet)\n",
        "        else:\n",
        "            for c in selfCells:\n",
        "                this = self.getDistanceTo(c)\n",
        "                that = other.getDistanceTo(c)\n",
        "                thisPallet = self.getPallet(c)\n",
        "                difference.setDistanceTo(c, (this - that))\n",
        "                difference.setPallet(c, thisPallet)\n",
        "        return difference\n",
        "\n",
        "    def max(self):\n",
        "        selfCells = self.getCells()\n",
        "        that = 0\n",
        "        for c in selfCells:\n",
        "                this = self.getDistanceTo(c)\n",
        "                if this > that:\n",
        "                    that = this\n",
        "        return that\n",
        "\n",
        "    def __add__(self, other):\n",
        "        addition = Distances(self.rootCell)\n",
        "        selfCells = self.getCells()\n",
        "        if isinstance(other, int):\n",
        "            for c in selfCells:\n",
        "                this = self.getDistanceTo(c)\n",
        "                thisPallet = self.getPallet(c)\n",
        "                addition.setDistanceTo(c, (this + other))\n",
        "                addition.setPallet(c, thisPallet)\n",
        "        else:\n",
        "            for c in selfCells:\n",
        "                this = self.getDistanceTo(c)\n",
        "                that = other.getDistanceTo(c)\n",
        "                thisPallet = self.getPallet(c)\n",
        "                addition.setDistanceTo(c, (this + that))\n",
        "                addition.setPallet(c, thisPallet)\n",
        "        return addition\n",
        "    \n",
        "    def getDistanceTo(self, cell):\n",
        "        return self.cells.get(cell, None)\n",
        "\n",
        "    def setDistanceTo(self, cell, distance):\n",
        "        self.cells[cell] = distance\n",
        "\n",
        "    def getPallet(self, cell):\n",
        "        return self.pallet.get(cell, None)\n",
        "\n",
        "    def setPallet(self, cell, thisPallet):\n",
        "        self.pallet[cell] = thisPallet\n",
        "\n",
        "    def getCells(self):\n",
        "        return self.cells.keys()\n",
        "\n",
        "    def isPartOfPath(self, cell):\n",
        "        #return self.cells.has_key(cell)\n",
        "        return cell in self.cells\n"
      ],
      "execution_count": 0,
      "outputs": []
    },
    {
      "metadata": {
        "id": "Efv0REXt3k7c",
        "colab_type": "text"
      },
      "cell_type": "markdown",
      "source": [
        "**Block 5 \"connect\" nthe maze using Wilson **"
      ]
    },
    {
      "metadata": {
        "id": "y2voOgn1UIf1",
        "colab_type": "code",
        "colab": {}
      },
      "cell_type": "code",
      "source": [
        "import random\n",
        "\n",
        "def initWilsonMaze(grid):\n",
        "    unvisited = []\n",
        "    for cell in grid.eachCell():\n",
        "        unvisited.append(cell)\n",
        "\n",
        "    first = random.choice(unvisited)\n",
        "    unvisited.remove(first)\n",
        "\n",
        "    while len(unvisited) > 0:\n",
        "        cell = random.choice(unvisited)\n",
        "        path = [cell]\n",
        "        while cell in unvisited:\n",
        "            cell = random.choice(cell.neighbors())\n",
        "            if cell in path:\n",
        "                position = path.index(cell)\n",
        "                #in Ruby code: path = path[0..position]\n",
        "                #is in Python needs the line below\n",
        "                path = path[:position+1]\n",
        "            else:\n",
        "                path.append(cell)\n",
        "        #in Ryby: 0.upto(path.length-2)\n",
        "        #is in Python the line below\n",
        "        for i in range(len(path)-1):\n",
        "            path[i].link(path[i+1])\n",
        "            unvisited.remove(path[i])\n",
        "\n",
        "    return grid"
      ],
      "execution_count": 0,
      "outputs": []
    },
    {
      "metadata": {
        "id": "Nli42AY0yBaG",
        "colab_type": "code",
        "colab": {}
      },
      "cell_type": "code",
      "source": [
        "from io import BytesIO\n",
        "from IPython.core import display\n",
        "\n",
        "def displayMaze(surface):\n",
        "  bytes = BytesIO()\n",
        "  surface.write_to_png(bytes)\n",
        "  bytes.seek(0)\n",
        "  binarydata = bytes.read()\n",
        "  i = display.Image(data = binarydata)\n",
        "  display.display(i)\n"
      ],
      "execution_count": 0,
      "outputs": []
    },
    {
      "metadata": {
        "id": "Hrt5uHaaq0gM",
        "colab_type": "code",
        "colab": {}
      },
      "cell_type": "code",
      "source": [
        "#@title Output File\n",
        "FileName = \"maze.pdf\" #@param {type:\"string\"}\n",
        "PaperSize = \"US/Letter\" #@param [\"US/Letter\", \"A4\", \"Tabloid\"]\n"
      ],
      "execution_count": 0,
      "outputs": []
    },
    {
      "metadata": {
        "id": "t60xnoJnskif",
        "colab_type": "code",
        "colab": {}
      },
      "cell_type": "code",
      "source": [
        "#@title Maze Size\n",
        "Rows = 40 #@param {type:\"integer\"}\n",
        "Columns = 30 #@param {type:\"integer\"}\n",
        "\n"
      ],
      "execution_count": 0,
      "outputs": []
    },
    {
      "metadata": {
        "id": "cUKnNT_tUIf3",
        "colab_type": "code",
        "outputId": "3c0abddb-5f7b-4149-d27d-3d273a950dc7",
        "colab": {
          "base_uri": "https://localhost:8080/",
          "height": 809
        }
      },
      "cell_type": "code",
      "source": [
        "def main(rows, columns, file, papersize):\n",
        "    grid  = Grid(rows, columns)\n",
        "    grid  = initWilsonMaze(grid)\n",
        "    startRow = 0  \n",
        "\n",
        "    startColumn = 0\n",
        "    grid.start = grid.getCell(startRow, startColumn)\n",
        "\n",
        "    goalRow = rows-1 #random.randint(0, rows-1)\n",
        "    goalColumn = columns-1 \n",
        "    grid.goal = grid.getCell(goalRow, goalColumn)\n",
        "    grid.distances = grid.getDistancesFromPath(grid.start, grid.goal)\n",
        "    surface = grid.drawGrid(file, paper=papersize)\n",
        "    displayMaze(surface)   \n",
        "    \n",
        "main(Rows, Columns, FileName, PaperSize)\n",
        "\n",
        "     "
      ],
      "execution_count": 0,
      "outputs": [
        {
          "output_type": "display_data",
          "data": {
            "image/png": "[encoded data removed]",
            "text/plain": [
              "<IPython.core.display.Image object>"
            ]
          },
          "metadata": {
            "tags": []
          }
        }
      ]
    },
    {
      "metadata": {
        "id": "VW33oVvZsihk",
        "colab_type": "code",
        "colab": {}
      },
      "cell_type": "code",
      "source": [
        ""
      ],
      "execution_count": 0,
      "outputs": []
    },
    {
      "metadata": {
        "id": "UiAT_269NRXY",
        "colab_type": "code",
        "colab": {}
      },
      "cell_type": "code",
      "source": [
        "#@title Output { run: \"auto\" }\n",
        "downloadPDF = True #@param {type:\"boolean\"}\n",
        "from google.colab import files\n",
        "if downloadPDF: files.download(FileName)\n"
      ],
      "execution_count": 0,
      "outputs": []
    }
  ]
}