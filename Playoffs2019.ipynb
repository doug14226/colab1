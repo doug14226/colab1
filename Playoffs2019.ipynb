{
  "nbformat": 4,
  "nbformat_minor": 0,
  "metadata": {
    "colab": {
      "name": "Playoffs2019.ipynb",
      "version": "0.3.2",
      "provenance": [],
      "private_outputs": true,
      "toc_visible": true,
      "include_colab_link": true
    },
    "kernelspec": {
      "name": "python3",
      "display_name": "Python 3"
    }
  },
  "cells": [
    {
      "cell_type": "markdown",
      "metadata": {
        "id": "view-in-github",
        "colab_type": "text"
      },
      "source": [
        "<a href=\"https://colab.research.google.com/github/doug14226/colab1/blob/master/Playoffs2019.ipynb\" target=\"_parent\"><img src=\"https://colab.research.google.com/assets/colab-badge.svg\" alt=\"Open In Colab\"/></a>"
      ]
    },
    {
      "metadata": {
        "id": "JEek39MqNrSm",
        "colab_type": "text"
      },
      "cell_type": "markdown",
      "source": [
        "# A Demonstration of Python for Machine Learning\n",
        "# Predicting Scorees for the 2019 NFL Playoffs\n",
        "Copyright (c) 2018 Douglas Lange.  \n",
        "Permission is hereby granted, free of charge, to any person obtaining a copy\n",
        "of this software and associated documentation files (the \"Software\"), to deal\n",
        "in the Software without restriction, including without limitation the rights\n",
        "to use, copy, modify, merge, publish, distribute, sublicense, and/or sell\n",
        "copies of the Software, and to permit persons to whom the Software is\n",
        "furnished to do so, subject to the following conditions:\n",
        "\n",
        "The above copyright notice and this permission notice shall be included in all\n",
        "copies or substantial portions of the Software.\n",
        "\n",
        "THE SOFTWARE IS PROVIDED \"AS IS\", WITHOUT WARRANTY OF ANY KIND, EXPRESS OR\n",
        "IMPLIED, INCLUDING BUT NOT LIMITED TO THE WARRANTIES OF MERCHANTABILITY,\n",
        "FITNESS FOR A PARTICULAR PURPOSE AND NONINFRINGEMENT. IN NO EVENT SHALL THE\n",
        "AUTHORS OR COPYRIGHT HOLDERS BE LIABLE FOR ANY CLAIM, DAMAGES OR OTHER\n",
        "LIABILITY, WHETHER IN AN ACTION OF CONTRACT, TORT OR OTHERWISE, ARISING FROM,\n",
        "OUT OF OR IN CONNECTION WITH THE SOFTWARE OR THE USE OR OTHER DEALINGS IN THE\n",
        "SOFTWARE."
      ]
    },
    {
      "metadata": {
        "id": "AMddmut8kPI5",
        "colab_type": "text"
      },
      "cell_type": "markdown",
      "source": [
        "#Section 1: Get data from Google Drive\n",
        "\n",
        "\n",
        "---\n",
        "Get teams2018.csv,. games_2018.csv, drives_2018.csv, and games_Playoff_2019.csv from Google Drive.\n",
        "Execution of this block will produce a Playoffs2019.log file.  If faults occur, please download Playoffs.log and post descritption of error with Playoffs,log as attachment at https://gethub.com/doug14226/colab/issues.  Be sure to mention \n",
        "Playoffs.ipynb in the issue  \n",
        "\n",
        "---\n",
        "To download Playoffs.log goto the last cell, click the download_Log button, and run the cell.\n"
      ]
    },
    {
      "metadata": {
        "id": "ZYGDwfYh_Sh-",
        "colab_type": "code",
        "colab": {}
      },
      "cell_type": "code",
      "source": [
        "%%shell\n",
        "echo $0 >> Playoffs2019.log\n",
        "if ls teams2018.csv &>> Playoffs2019.log; then\n",
        "  echo \"Teams Previously Loaded\"\n",
        "else wget -O teams2018.csv \"https://drive.google.com/uc?export=download&id=1hoZp74vmwpN5QTUVQRGhnrmcX-JmmtoI\" &>> Playoffs2019.log;\n",
        "fi\n",
        "if ls games_2018.csv &>> Playoffs2019.log; then\n",
        "  echo \"Games Previously Loaded\"\n",
        "else wget -O games_2018.csv \"https://drive.google.com/uc?export=download&id=1zZY7d3B42MKtjYw34UGVBWkm7R3FQJtk\" &>> Playoffs2019.log;\n",
        "fi\n",
        "if ls drives_2018.csv  &>> Playoffs2019.log; then\n",
        "  echo \"Drives Previously Loaded\"\n",
        "else wget -O drives_2018.csv \"https://drive.google.com/uc?export=download&id=1Pp-eSgzjKgt_XMBNEihobMMlVBlP8LJq\" &>> Playoffs2019.log;\n",
        "fi\n",
        "if ls games_Playoff_2019.csv &>> Playoffs2019.log; then\n",
        "  echo \"Games_Playoff Previously Loaded\"\n",
        "else wget -O games_Playoff_2019.csv \"https://drive.google.com/uc?export=download&id=1vpVYiV1kGFX4Mu6SxlUuJClM9RFs2Syk\" &>> Playoffs2019.log;\n",
        "fi\n"
      ],
      "execution_count": 0,
      "outputs": []
    },
    {
      "metadata": {
        "id": "dDqVGAYPnFMW",
        "colab_type": "text"
      },
      "cell_type": "markdown",
      "source": [
        "#Section 2: Import required Python Packages"
      ]
    },
    {
      "metadata": {
        "id": "ZeJ-LxUOsZYP",
        "colab_type": "code",
        "colab": {}
      },
      "cell_type": "code",
      "source": [
        "import pandas as pd\n",
        "import numpy as np\n",
        "import matplotlib.pyplot as plt\n",
        "from sklearn.linear_model import BayesianRidge\n",
        "#if pd.__version__ == '0.22.0':\n",
        "#  !pip3 install pandas --upgrade"
      ],
      "execution_count": 0,
      "outputs": []
    },
    {
      "metadata": {
        "id": "VxTF6aL9n5EX",
        "colab_type": "text"
      },
      "cell_type": "markdown",
      "source": [
        "#Section 3: Load teams, games, and drives into Pandas Dataframes."
      ]
    },
    {
      "metadata": {
        "id": "hyRFgpXLLJIZ",
        "colab_type": "code",
        "colab": {}
      },
      "cell_type": "code",
      "source": [
        "games=pd.read_csv('games_2018.csv',index_col = 'gsis_id')\n",
        "drives=pd.read_csv('drives_2018.csv')\n",
        "teams = pd.read_csv('teams2018.csv')\n",
        "drivebins = pd.cut(drives['drive_start'],[0,20,40,60,80,100])\n",
        "endbins = pd.cut(drives['drive_end'],[0,20,40,60,80,100])\n",
        "drives.insert(16,'Start_Bin',drivebins)\n",
        "drives.insert(17,'End_Bin',endbins)\n",
        "#line below is from Pandas versipn 24 unfortunately Colaboratory uses incompatable version 22\n",
        "#intervals = pd.interval_range(start=0, end=100, periods=5, freq=None, name=None, closed='right')\n",
        "intervals = [pd.Interval(0,20,'right'),pd.Interval(20,40,'right'),pd.Interval(40,60,'right'),pd.Interval(60,80,'right'),pd.Interval(80,100,'right')]\n"
      ],
      "execution_count": 0,
      "outputs": []
    },
    {
      "metadata": {
        "id": "wwHqFn2QoWoU",
        "colab_type": "text"
      },
      "cell_type": "markdown",
      "source": [
        "#Section 4: Definition of functions to calculate features from Pandas Data Frames"
      ]
    },
    {
      "metadata": {
        "id": "1MbqizeJLv31",
        "colab_type": "code",
        "colab": {}
      },
      "cell_type": "code",
      "source": [
        "def possesion_ave(team,possession='pos_team'):\n",
        "    team_drives = drives[drives[possession].isin([team])]\n",
        "    features = []\n",
        "    plays = team_drives.loc[:,'play_count'].sum()\n",
        "    py = team_drives.loc[:,'penalty_yards'].sum()\n",
        "#   add more ave per play featurees here\n",
        "    features.append(py/plays)\n",
        "    return features\n",
        "    \n",
        "def possesion_starts(team,possession='pos_team'):\n",
        "    team_drives = drives[drives[possession].isin([team])]\n",
        "    ndrives = len(team_drives.index)\n",
        "    features = []\n",
        "    for i in range(5):\n",
        "        drivessubset = team_drives[team_drives['Start_Bin'].isin([intervals[i]])]\n",
        "        features.append(len(drivessubset.index)/ndrives)\n",
        "    return features \n",
        "\n",
        "def count_result(drives,bins,intervals,results):\n",
        "    drivessubset = drives[drives[bins].isin(intervals)]\n",
        "    nds =len(drivessubset.index)\n",
        "    if nds:\n",
        "        results_drives = drivessubset[drivessubset['result'].isin(results)]\n",
        "        nr = len(results_drives.index)\n",
        "        return nr/nds \n",
        "    return 0.0\n",
        "\n",
        "def offensive_features(team,possession='pos_team'):\n",
        "    team_drives = drives[drives[possession].isin([team])]\n",
        "    ndrives = len(team_drives.index)\n",
        "    turnover_selector = team_drives['result'].isin(['Fumble','Interception'])\n",
        "    turnover_drives = team_drives[turnover_selector]\n",
        "    punt_drives = team_drives[team_drives['result'].isin(['Punt'])]\n",
        "    threeandout = punt_drives[punt_drives['first_downs'].eq(0)]\n",
        "    features = [len(turnover_drives)/ndrives]\n",
        "    safety_selector = team_drives['result'].isin(['Fumble, Safety','Safety'])\n",
        "    safety_drives = team_drives[safety_selector]\n",
        "    nonturnover_drives = team_drives[~turnover_selector]\n",
        "    features.append(len(safety_drives.index)/ndrives)\n",
        "    for i in [0,1,2,3]:\n",
        "        features.append(count_result(team_drives,'Start_Bin',[intervals[i]],['Touchdown']))\n",
        "    for i in [0,1,2,3]:\n",
        "        features.append(count_result(team_drives,'Start_Bin',[intervals[i]],['Field Goal']))\n",
        "    # Red Zone Efficiancy\n",
        "    features.append(count_result(team_drives,'End_Bin',[intervals[4]],['Touchdown']))\n",
        "    features.append(len(threeandout.index)/ndrives)\n",
        "    return features\n"
      ],
      "execution_count": 0,
      "outputs": []
    },
    {
      "metadata": {
        "id": "3plBYxtwMR8T",
        "colab_type": "text"
      },
      "cell_type": "markdown",
      "source": [
        "#Section 5: Create Offensive and Defensive feature Dataframes with Team as key"
      ]
    },
    {
      "metadata": {
        "id": "QBi2bTo0MS8W",
        "colab_type": "code",
        "colab": {}
      },
      "cell_type": "code",
      "source": [
        "Pdata=pd.DataFrame(np.zeros(shape=(32,18)),index = teams['team_id'],columns = ['Turnover','safety','TDle20','TDle40','TDle60','TDle80','FGle20',\n",
        "                                                                               'FGle40','FGle60','FGle80','RZ','nfd','Ple20','Ple40,','Ple60',\n",
        "                                                                               'Ple80','Ple100','pyp'])\n",
        "                                                                            \n",
        "        \n",
        "\n",
        "Ddata=pd.DataFrame(np.zeros(shape=(32,18)),index = teams['team_id'],columns = ['DTurnover','Dsafety','DTDle20','DTDle40','DTDle60','DTDle80','DFGle20',\n",
        "                                                                               'DFGle40','DFGle60','DFGle80','DRZ','Dnfd','DPle20','DPle40,','DPle60',\n",
        "                                                                               'DPle80','DPle100','Dpyp'])\n",
        "\n",
        "for team in teams['team_id']:\n",
        "    OF = offensive_features(team) + possesion_starts(team) + possesion_ave(team)\n",
        "    Pdata.loc[team] = OF\n",
        "    \n",
        "for team in teams['team_id']:\n",
        "    DF = offensive_features(team,'def_team') + possesion_starts(team,'def_team') + possesion_ave(team,'def_team')\n",
        "    Ddata.loc[team] = DF\n",
        "    "
      ],
      "execution_count": 0,
      "outputs": []
    },
    {
      "metadata": {
        "id": "Sd32QiXkRCEl",
        "colab_type": "text"
      },
      "cell_type": "markdown",
      "source": [
        "#Section 6: Create Feature andd Result(Scores) Dataframes for 2018 Season"
      ]
    },
    {
      "metadata": {
        "id": "TSKM8aWqRCi-",
        "colab_type": "code",
        "colab": {}
      },
      "cell_type": "code",
      "source": [
        "Regular_season = games[games['season_type'].isin(['Regular'])]\n",
        "\n",
        "Features=pd.DataFrame(np.zeros(shape=(512,37)),columns = ['Home','Turnover','safety','TDle20','TDle40','TDle60','TDle80','FGle20',\n",
        "                                                        'FGle40','FGle60','FGle80','RZ','nfd','Ple20','Ple40,','Ple60',\n",
        "                                                        'Ple80','Ple100','pyp','DTurnover','Dsafety','DTDle20','DTDle40','DTDle60','DTDle80','DFGle20',\n",
        "                                                        'DFGle40','DFGle60','DFGle80','DRZ','Dnfd','DPle20','DPle40,','DPle60',\n",
        "                                                        'DPle80','DPle100','Dpyp'])           \n",
        "\n",
        "Scores=pd.DataFrame(np.zeros(shape=(512,1)),columns=['Scores'])\n",
        "\n",
        "i = 0        \n",
        "for g in Regular_season.index:\n",
        "    x=Regular_season.loc[g].tolist()\n",
        "    t1 = x[1]\n",
        "    t2 = x[3]\n",
        "    nh = x[5]\n",
        "    s = x[2]\n",
        "    DF = Ddata.loc[t2].tolist()\n",
        "    OF = Pdata.loc[t1].tolist()\n",
        "    h=1.0\n",
        "    if nh:\n",
        "        h=0.0\n",
        "    F = [h] + OF + DF\n",
        "    Features.loc[i] = F\n",
        "    Scores.loc[i] = s \n",
        "    i = i + 1\n",
        "    s = x[4]\n",
        "    DF = Ddata.loc[t1].tolist()\n",
        "    OF = Pdata.loc[t2].tolist()\n",
        "    F = [0.0] + OF + DF\n",
        "    Features.loc[i] = F\n",
        "    Scores.loc[i] = s    \n",
        "    i = i + 1\n"
      ],
      "execution_count": 0,
      "outputs": []
    },
    {
      "metadata": {
        "id": "ApWzcCS4seN9",
        "colab_type": "text"
      },
      "cell_type": "markdown",
      "source": [
        "#Section 7: Find the weights for each feature in the model"
      ]
    },
    {
      "metadata": {
        "id": "Cp6Ygwhzsedx",
        "colab_type": "code",
        "colab": {}
      },
      "cell_type": "code",
      "source": [
        "clf = BayesianRidge(compute_score=False)\n",
        "X = Features.values\n",
        "y = np.ravel(Scores.values)\n",
        "clf.fit(X, y)\n",
        "\n",
        "l=['Home','Turnover','safety','TDle20','TDle40','TDle60','TDle80','FGle20',\n",
        "                                'FGle40','FGle60','FGle80','RZ','nfd','Ple20','Ple40,','Ple60',\n",
        "                                'Ple80','Ple100','pyp','DTurnover','Dsafety','DTDle20','DTDle40','DTDle60','DTDle80','DFGle20',\n",
        "                                'DFGle40','DFGle60','DFGle80','DRZ','Dnfd','DPle20','DPle40,','DPle60',\n",
        "                                'DPle80','DPle100','Dpyp']  \n",
        "\n",
        "z=zip(l,clf.coef_)\n",
        "print(z)\n",
        "for c,f in z:\n",
        "    print(c,f)"
      ],
      "execution_count": 0,
      "outputs": []
    },
    {
      "metadata": {
        "id": "zDwY1nQRgVTS",
        "colab_type": "text"
      },
      "cell_type": "markdown",
      "source": [
        "#Section 9: Use the model to predict playoff results"
      ]
    },
    {
      "metadata": {
        "id": "z5t-eLiFgVhT",
        "colab_type": "code",
        "colab": {}
      },
      "cell_type": "code",
      "source": [
        "Playoffs = pd.read_csv('games_Playoff_2019.csv',index_col = 'gsis_id')\n",
        "\n",
        "PlayoffFeatures=pd.DataFrame(np.zeros(shape=(11,37)),columns = ['Home','Turnover','safety','TDle20','TDle40','TDle60','TDle80','FGle20',\n",
        "                                                        'FGle40','FGle60','FGle80','RZ','nfd','Ple20','Ple40,','Ple60',\n",
        "                                                        'Ple80','Ple100','pyp','DTurnover','Dsafety','DTDle20','DTDle40','DTDle60','DTDle80','DFGle20',\n",
        "                                                        'DFGle40','DFGle60','DFGle80','DRZ','Dnfd','DPle20','DPle40,','DPle60',\n",
        "                                                        'DPle80','DPle100','Dpyp'])           \n",
        "\n",
        "\n",
        "i = 0\n",
        "for g in Playoffs.index:\n",
        "    x=Playoffs.loc[g].tolist()\n",
        "    t1 = x[1]\n",
        "    t2 = x[3]\n",
        "    s = x[2]\n",
        "    nothome = x[5]\n",
        "    DF = Ddata.loc[t2].tolist()\n",
        "    OF = Pdata.loc[t1].tolist()\n",
        "    if i!=20 and nothome == 0:        \n",
        "        F = [1.0] + OF + DF\n",
        "    else:\n",
        "        F = [0.0] + OF + DF\n",
        "    PlayoffFeatures.loc[i] = F\n",
        "    i = i + 1\n",
        "    s = x[4]\n",
        "    DF = Ddata.loc[t1].tolist()\n",
        "    OF = Pdata.loc[t2].tolist()\n",
        "    F = [0.0] + OF + DF\n",
        "    PlayoffFeatures.loc[i] = F   \n",
        "    i = i + 1\n",
        "    \n",
        "X = PlayoffFeatures.values\n",
        "PlayoffPredict = clf.predict(X)    \n",
        "\n",
        "Playoffs.insert(2,'pred_home_score',PlayoffPredict[0::2])\n",
        "Playoffs.insert(5,'pred_away_score',PlayoffPredict[1::2])\n",
        "Playoffs.to_csv('Playoffs.csv')\n",
        "Playoffs"
      ],
      "execution_count": 0,
      "outputs": []
    }
  ]
}