{
  "nbformat": 4,
  "nbformat_minor": 0,
  "metadata": {
    "colab": {
      "name": "Beyond The Mono-Maze",
      "version": "0.3.2",
      "provenance": [],
      "collapsed_sections": [],
      "toc_visible": true,
      "include_colab_link": true
    },
    "kernelspec": {
      "name": "python3",
      "display_name": "Python 3"
    }
  },
  "cells": [
    {
      "cell_type": "markdown",
      "metadata": {
        "id": "view-in-github",
        "colab_type": "text"
      },
      "source": [
        "<a href=\"https://colab.research.google.com/github/doug14226/colab1/blob/master/Beyond_The_Mono_Maze.ipynb\" target=\"_parent\"><img src=\"https://colab.research.google.com/assets/colab-badge.svg\" alt=\"Open In Colab\"/></a>"
      ]
    },
    {
      "metadata": {
        "id": "4YYYoIDW4g6b",
        "colab_type": "text"
      },
      "cell_type": "markdown",
      "source": [
        "#Adding Save/Open Maze to the maze generator\n",
        "Copyright (c) 2016 Sami Salkosuo  \n",
        "Copyright (c) 2018 Douglas Lange.  \n",
        "Permission is hereby granted, free of charge, to any person obtaining a copy\n",
        "of this software and associated documentation files (the \"Software\"), to deal\n",
        "in the Software without restriction, including without limitation the rights\n",
        "to use, copy, modify, merge, publish, distribute, sublicense, and/or sell\n",
        "copies of the Software, and to permit persons to whom the Software is\n",
        "furnished to do so, subject to the following conditions:\n",
        "\n",
        "The above copyright notice and this permission notice shall be included in all\n",
        "copies or substantial portions of the Software.\n",
        "\n",
        "HE SOFTWARE IS PROVIDED \"AS IS\", WITHOUT WARRANTY OF ANY KIND, EXPRESS OR\n",
        "IMPLIED, INCLUDING BUT NOT LIMITED TO THE WARRANTIES OF MERCHANTABILITY,\n",
        "FITNESS FOR A PARTICULAR PURPOSE AND NONINFRINGEMENT. IN NO EVENT SHALL THE\n",
        "AUTHORS OR COPYRIGHT HOLDERS BE LIABLE FOR ANY CLAIM, DAMAGES OR OTHER\n",
        "LIABILITY, WHETHER IN AN ACTION OF CONTRACT, TORT OR OTHERWISE, ARISING FROM,\n",
        "OUT OF OR IN CONNECTION WITH THE SOFTWARE OR THE USE OR OTHER DEALINGS IN THE\n",
        "SOFTWARE.\n",
        "\n"
      ]
    },
    {
      "metadata": {
        "id": "JL_kVwh_d_29",
        "colab_type": "text"
      },
      "cell_type": "markdown",
      "source": [
        "##Ssection 1 :  Install required libraries, packages and files \n",
        "\n",
        "---\n",
        "Install Cairo library and python code from previous example..\n",
        "Execution of this block will produce a setup.log file.\n",
        "If faults occur, please download setup.log and post new issue with setup.log as attachment at https://github.com/doug14226/colab1/issues. To download setup.log run the following in a new  cell.  (to add cell press +code above)\n",
        "\n",
        "---\n",
        "from google.colab import files  \n",
        "files.download(\"setup.log\")\n",
        "\n"
      ]
    },
    {
      "metadata": {
        "id": "zuurfwEaxezE",
        "colab_type": "code",
        "colab": {}
      },
      "cell_type": "code",
      "source": [
        "#cmdout =!wget -O firstmaze.py \"https://drive.google.com/uc?export=download&id=1E6V_ligNwiDT6u07K8D8-6iR3BPjxvb7\"\n",
        "!ls -l"
      ],
      "execution_count": 0,
      "outputs": []
    },
    {
      "metadata": {
        "id": "bkrj9vClMkp5",
        "colab_type": "code",
        "colab": {}
      },
      "cell_type": "code",
      "source": [
        "# Install the PyDrive wrapper & import libraries.\n",
        "# This only needs to be done once per notebook.\n",
        "!pip install -U -q PyDrive\n",
        "from pydrive.auth import GoogleAuth\n",
        "from pydrive.drive import GoogleDrive\n",
        "from google.colab import auth\n",
        "from oauth2client.client import GoogleCredentials\n",
        "\n",
        "# Authenticate and create the PyDrive client.\n",
        "# This only needs to be done once per notebook.\n",
        "auth.authenticate_user()\n",
        "gauth = GoogleAuth()\n",
        "gauth.credentials = GoogleCredentials.get_application_default()\n",
        "drive = GoogleDrive(gauth)\n",
        "\n",
        "# Download a file based on its file ID.\n",
        "#\n",
        "# A file ID looks like: laggVyWshwcyP6kEI-y_W3P8D26sz\n",
        "file_id = 'REPLACE_WITH_YOUR_FILE_ID'\n",
        "downloaded = drive.CreateFile({'id': file_id})\n",
        "print('Downloaded content \"{}\"'.format(downloaded.GetContentString()))"
      ],
      "execution_count": 0,
      "outputs": []
    },
    {
      "metadata": {
        "id": "S8Hf_4XqUSWL",
        "colab_type": "code",
        "colab": {}
      },
      "cell_type": "code",
      "source": [
        "def dougpawsFirstMazeSetup():\n",
        "  \n",
        "  def install_not_needed():\n",
        "    lsout = !ls -l firstmaze.py\n",
        "    if len(lsout[0].split()) > 4 and (lsout[0].split()[4] == '13368'):\n",
        "      try:\n",
        "        import cairo\n",
        "        return(True)\n",
        "      except ImportError:\n",
        "        return(False)\n",
        "    else:\n",
        "      return(False)\n",
        "\n",
        "  if install_not_needed():\n",
        "    print(\"All requirements met, install not needed\")\n",
        "    return\n",
        "\n",
        "  log = open(\"setup.log\",\"a\")\n",
        "\n",
        "  def printlog(cmdout,log): \n",
        "    for line in cmdout:\n",
        "      print(line, file = log)\n",
        "      \n",
        "  print(\"\\nSetup required \", file = log)\n",
        "  from datetime import datetime\n",
        "  print(datetime.utcnow(), file = log)\n",
        "  import sys\n",
        "  print(\"Log Python Version\", file = log)\n",
        "  print(sys.version, file=log)\n",
        "  cmdout = !uname -a\n",
        "  print(\"ID OS version\", file = log)\n",
        "  printlog(cmdout, log)\n",
        "  cmdout = ! ls -l firstmaze.py\n",
        "  if (cmdout[0].split()[4] != '15364'):\n",
        "    cmdout =!wget -O firstmaze.py \"https://drive.google.com/uc?export=download&id=1E6V_ligNwiDT6u07K8D8-6iR3BPjxvb7\"\n",
        "    print(\"installing firstmaze.py\",file = log )\n",
        "    printlog(cmdout, log)\n",
        "\n",
        "  print(\"installing cairo\", file = log )\n",
        "  cmdout = !apt-get install libcairo2-dev\n",
        "  printlog(cmdout, log)\n",
        "  cmdout = !pip3 install pycairo\n",
        "  printlog(cmdout, log)\n",
        "\n",
        "  if install_not_needed():\n",
        "    print(\"Install finished without errors\")\n",
        "  else:\n",
        "    print(\"Install failed, check setup.log\")\n",
        "\n",
        "dougpawsFirstMazeSetup()    "
      ],
      "execution_count": 0,
      "outputs": []
    },
    {
      "metadata": {
        "id": "YB2aIyffezwI",
        "colab_type": "text"
      },
      "cell_type": "markdown",
      "source": [
        "##Section 2: Import classes and functions to be reused form firstMaze.ipynb"
      ]
    },
    {
      "metadata": {
        "id": "oNnK-UdMUIft",
        "colab_type": "code",
        "colab": {}
      },
      "cell_type": "code",
      "source": [
        "from firstmaze import Cell, Distances, initWilsonMaze, displayMaze"
      ],
      "execution_count": 0,
      "outputs": []
    },
    {
      "metadata": {
        "id": "ciyVZbgijaxS",
        "colab_type": "text"
      },
      "cell_type": "markdown",
      "source": [
        "##Section 3: Class *Cell*, define data and methods of *Cell* objects."
      ]
    },
    {
      "metadata": {
        "id": "eh8-V627jcNZ",
        "colab_type": "code",
        "colab": {}
      },
      "cell_type": "code",
      "source": [
        "class Cell:\n",
        "    def __init__(self, row, column):\n",
        "        self.row = row\n",
        "        self.column = column\n",
        "        self.directions = ('north', 'west', 'south', 'east')  # ccw order required\n",
        "        self.nearby = dict()      # key is direction (i.e. 'east') value is cell object\n",
        "        self.links = dict()       # key is nearby cell object value is true\n",
        "\n",
        "    def link(self, cell, bidi=True):\n",
        "        self.links[cell] = True\n",
        "        if bidi is True:\n",
        "            cell.link(self, False)\n",
        "        return self\n",
        "\n",
        "    def getLinks(self):\n",
        "        return self.links.keys()\n",
        "\n",
        "    def neighbors(self):\n",
        "        myNeighbors = [self.nearby[d] for d in self.directions]\n",
        "        return [x for x in filter(None, myNeighbors)]\n",
        "\n",
        "    def directionToText(self, direction):\n",
        "        if direction == 0:\n",
        "            direction = \"north\"\n",
        "        if direction == 1:\n",
        "            direction = \"east\"\n",
        "        if direction == 2:\n",
        "            direction = \"south\"\n",
        "        if direction == 3:\n",
        "            direction = \"west\"\n",
        "        return direction\n",
        "\n",
        "    def fillCell(self, ctx, pointsPerCell, hue):\n",
        "        yU = self.row*pointsPerCell+4\n",
        "        xL = self.column*pointsPerCell+4\n",
        "        ctx.rectangle(xL, yU, pointsPerCell, pointsPerCell)\n",
        "        ctx.set_source_rgb(*hue)\n",
        "        ctx.fill()\n",
        "\n",
        "    def drawCell(self, ctx, pointsPerCell, rows, columns):\n",
        "        yU = self.row*pointsPerCell+4\n",
        "        yL = yU+pointsPerCell\n",
        "        xL = self.column*pointsPerCell+4\n",
        "        xR = xL+pointsPerCell\n",
        "        ctx.set_source_rgb(0, 0, 0)\n",
        "        ctx.set_line_width(4)\n",
        "        if not(self.hasNeighbor(\"east\")) and self.column < (columns-1):\n",
        "            ctx.move_to(xR, yU-2)\n",
        "            ctx.line_to(xR, yL+2)\n",
        "            ctx.stroke()\n",
        "        if not(self.hasNeighbor(\"south\")) and self.row < (rows-1):\n",
        "            ctx.move_to(xL, yL)\n",
        "            ctx.line_to(xR, yL)\n",
        "            ctx.stroke()\n",
        "\n",
        "    def hasNeighbor(self, direction):\n",
        "        direction = self.directionToText(direction)\n",
        "        myNeighbor = self.nearby[direction]\n",
        "        return myNeighbor in self.links\n",
        "\n",
        "    #return Distances from this cell to all other cells\n",
        "    def getDistances(self, pallet=0):\n",
        "        distances = Distances(self, rootPallet=pallet)\n",
        "        frontier = []\n",
        "        frontier.append(self)\n",
        "        while len(frontier) > 0:\n",
        "            newFrontier = []\n",
        "            for cell in frontier:\n",
        "                for linked in cell.getLinks():\n",
        "                    if distances.getDistanceTo(linked) is None:\n",
        "                        dist = distances.getDistanceTo(cell)\n",
        "                        distances.setDistanceTo(linked, dist+1)\n",
        "                        distances.setPallet(linked, pallet)\n",
        "                        newFrontier.append(linked)\n",
        "            frontier = newFrontier\n",
        "        return distances\n",
        "             "
      ],
      "execution_count": 0,
      "outputs": []
    },
    {
      "metadata": {
        "id": "rmoy6lQF2Flq",
        "colab_type": "text"
      },
      "cell_type": "markdown",
      "source": [
        "##Section 4: Class *Grid*. redefined to use mazeColoring bjects."
      ]
    },
    {
      "metadata": {
        "id": "2qsxlOftUIfy",
        "colab_type": "code",
        "colab": {}
      },
      "cell_type": "code",
      "source": [
        "import cairo\n",
        "\n",
        "class Grid:\n",
        "    def __init__(self, rows, columns, cellClass=Cell):\n",
        "        self.CellClass = cellClass\n",
        "        self.rows = rows\n",
        "        self.columns = columns\n",
        "        self.grid = self.prepareGrid()\n",
        "        self.distances = None\n",
        "        self.configureCells()\n",
        "        self.pointsPerCell = 18\n",
        "        self.start = None              # cell of path start\n",
        "        self.goal = None               # cell of path goal\n",
        "        self.ctx = None\n",
        "        self.coloring = None\n",
        "\n",
        "    def prepareGrid(self):\n",
        "        rowList = []\n",
        "        i = 0\n",
        "        j = 0\n",
        "        for i in range(self.rows):\n",
        "            columnList = []\n",
        "            for j in range(self.columns):\n",
        "                columnList.append(self.CellClass(i, j))\n",
        "            rowList.append(columnList)\n",
        "        return rowList\n",
        "\n",
        "    def configureCells(self):\n",
        "        for cell in self.eachCell():\n",
        "            row = cell.row\n",
        "            col = cell.column\n",
        "            cell.nearby['north'] = self.getCell(row-1, col)\n",
        "            cell.nearby['east'] = self.getCell(row, col+1)\n",
        "            cell.nearby['south'] = self.getCell(row+1, col)\n",
        "            cell.nearby['west'] = self.getCell(row, col-1)\n",
        "\n",
        "    def eachRow(self):\n",
        "        for row in self.grid:\n",
        "            yield row\n",
        "\n",
        "    def eachCell(self):\n",
        "        for row in self.grid:\n",
        "            for cell in row:\n",
        "                yield cell\n",
        "\n",
        "    def drawGrid(self, filename=None, pointsPerCell=18):\n",
        "        WIDTH, HEIGHT = self.columns*pointsPerCell+8, self.rows*pointsPerCell+8\n",
        "        surface = cairo.SVGSurface(filename, WIDTH, HEIGHT)\n",
        "        self.ctx = cairo.Context(surface)\n",
        "        self.ctx.set_line_join(cairo.LINE_JOIN_MITER)\n",
        "        self.ctx.stroke()\n",
        "        self.ctx.set_line_join(cairo.LINE_JOIN_MITER)\n",
        "        self.ctx.stroke()\n",
        "        if self.coloring is not None:\n",
        "            for row in self.grid:\n",
        "                for cell in row:\n",
        "                    d = self.distances.cells.get(cell, 0)\n",
        "                    hue = self.coloring.cellRGB(d, cell)\n",
        "                    cell.fillCell(self.ctx, self.pointsPerCell, hue)\n",
        "        for row in self.grid:\n",
        "            for cell in row:\n",
        "                cell.drawCell(self.ctx, self.pointsPerCell, self.rows, self.columns)\n",
        "        self.ctx.set_source_rgb(0, 0, 0)\n",
        "        self.ctx.set_line_width(4)\n",
        "        self.ctx.set_line_join(cairo.LINE_JOIN_MITER)\n",
        "        self.ctx.rectangle(4, 4, self.columns*self.pointsPerCell, self.rows*self.pointsPerCell)\n",
        "        self.ctx.stroke()\n",
        "        if self.coloring is not None:        \n",
        "            d = self.distances.cells.get(seld.start, 0)\n",
        "            hue = self.coloring.cellRGB(d, self.start)\n",
        "            self.drawOpening(self.start, hue)\n",
        "            d = self.distances.cells.get(seld.goal, 0)\n",
        "            hue = self.coloring.cellRGB(d, self.goal)\n",
        "            self.drawOpening(self.goal, hue)\n",
        "        return surface\n",
        "\n",
        "\n",
        "    def drawOpening(self, cell, hue):\n",
        "        self.ctx.set_source_rgb(*hue)\n",
        "        self.ctx.set_line_cap(cairo.LINE_CAP_BUTT)\n",
        "        if cell.row == 0:\n",
        "            self.ctx.move_to(4+2+(cell.column*self.pointsPerCell), 4)\n",
        "            self.ctx.line_to(4-2+((cell.column+1)*self.pointsPerCell), 4)\n",
        "            self.ctx.stroke()\n",
        "        elif cell.row == self.rows - 1:\n",
        "            self.ctx.move_to(4+2+(cell.column*self.pointsPerCell), self.rows*self.pointsPerCell + 4)\n",
        "            self.ctx.line_to(4-2+((cell.column+1)*self.pointsPerCell), self.rows*self.pointsPerCell + 4)\n",
        "            self.ctx.stroke()        \n",
        "        elif cell.column == 0:\n",
        "            self.ctx.move_to(4, 4+2+(cell.row*self.pointsPerCell))\n",
        "            self.ctx.line_to(4, 4-2+((cell.row+1)*self.pointsPerCell))\n",
        "            self.ctx.stroke()\n",
        "        elif cell.column == self.columns - 1:\n",
        "            self.ctx.move_to(self.columns*self.pointsPerCell+4,\n",
        "                             (cell.row*self.pointsPerCell+4+2))\n",
        "            self.ctx.line_to(self.columns*self.pointsPerCell+4,\n",
        "                             (4-2+(cell.row+1)*self.pointsPerCell))\n",
        "            self.ctx.stroke()\n",
        "\n",
        "    def getDistancesFromPath(self, start, goal, pallet=0):\n",
        "        distancesToStart = start.getDistances(pallet)\n",
        "        distancesToGoal = goal.getDistances(pallet)\n",
        "        pathLength = distancesToGoal.getDistanceTo(start)\n",
        "        sumDistances = distancesToStart + distancesToGoal\n",
        "        return (sumDistances - pathLength)\n",
        "    \n",
        "    def getCell(self, row, column):\n",
        "        if not 0 <= row < self.rows:\n",
        "            return None\n",
        "        if not 0 <= column < self.columns:\n",
        "            return None\n",
        "        return self.grid[row][column]\n",
        "\n",
        "    def dumpGrid(self, filename):\n",
        "        thisObj = [str(type(self)), [self.rows, self.columns]]\n",
        "        jsonObj = json.dumps(thisObj)\n",
        "        print(jsonObj, file=filename)\n",
        "        for row in self.grid:\n",
        "            for cell in row:\n",
        "                cell.dumpCell(filename)\n"
      ],
      "execution_count": 0,
      "outputs": []
    },
    {
      "metadata": {
        "id": "7YvkzcFQk61t",
        "colab_type": "text"
      },
      "cell_type": "markdown",
      "source": [
        "##Section 5: Class *Grid*. define data and methods of *Grid* i.e. maze objects."
      ]
    },
    {
      "metadata": {
        "id": "Yt6yEILVk7GU",
        "colab_type": "code",
        "colab": {}
      },
      "cell_type": "code",
      "source": [
        "##Section 4: Class *Grid*. define data and methods of *Grid* i.e. maze objects."
      ],
      "execution_count": 0,
      "outputs": []
    },
    {
      "metadata": {
        "id": "I7Bi7yojie2v",
        "colab_type": "text"
      },
      "cell_type": "markdown",
      "source": [
        "##Main Program:  "
      ]
    },
    {
      "metadata": {
        "id": "Nli42AY0yBaG",
        "colab_type": "code",
        "colab": {}
      },
      "cell_type": "code",
      "source": [
        "import random"
      ],
      "execution_count": 0,
      "outputs": []
    },
    {
      "metadata": {
        "id": "Hrt5uHaaq0gM",
        "colab_type": "code",
        "colab": {}
      },
      "cell_type": "code",
      "source": [
        "#@title Maze Parameters\n",
        "FileName = \"maze.svg\" #@param {type:\"string\"}\n",
        "PaperSize = \"US/Letter\" #@param [\"US/Letter\", \"A4\", \"Tabloid\"]\n",
        "#@markdown **Maze Size**\n",
        "Rows = 40 #@param {type:\"integer\"}\n",
        "Columns = 30 #@param {type:\"integer\"}\n",
        "\n",
        "\n",
        "def main():\n",
        "  grid  = Grid(Rows, Columns)\n",
        "  grid  = initWilsonMaze(grid)\n",
        "  startRow = 0  \n",
        "  startColumn = random.randint(0, Columns-1)\n",
        "  grid.start = grid.getCell(startRow, startColumn)\n",
        "  goalRow = Rows-1 \n",
        "  goalColumn = random.randint(0, Columns-1)\n",
        "  grid.goal = grid.getCell(goalRow, goalColumn)\n",
        "  grid.distances = grid.getDistancesFromPath(grid.start, grid.goal)\n",
        "  surface = grid.drawGrid(FileName)\n",
        "  displayMaze(surface)\n",
        "\n",
        "main()"
      ],
      "execution_count": 0,
      "outputs": []
    },
    {
      "metadata": {
        "id": "UiAT_269NRXY",
        "colab_type": "code",
        "colab": {}
      },
      "cell_type": "code",
      "source": [
        "#@title Output { run: \"auto\" }\n",
        "downloadPDF = False #@param {type:\"boolean\"}\n",
        "from google.colab import files\n",
        "if downloadPDF: files.download(FileName)\n"
      ],
      "execution_count": 0,
      "outputs": []
    },
    {
      "metadata": {
        "id": "XnegV_c5OZlX",
        "colab_type": "code",
        "colab": {}
      },
      "cell_type": "code",
      "source": [
        "#@title Download setup.log?\n",
        "download_setup_log = False #@param {type:\"boolean\"}\n",
        "from google.colab import files\n",
        "if download_setup_log:\n",
        "  files.download('setup.log')"
      ],
      "execution_count": 0,
      "outputs": []
    }
  ]
}